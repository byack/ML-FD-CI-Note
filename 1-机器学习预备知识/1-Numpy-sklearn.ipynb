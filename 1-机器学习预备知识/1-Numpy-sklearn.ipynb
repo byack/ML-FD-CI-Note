{
 "cells": [
  {
   "cell_type": "markdown",
   "id": "4563e610",
   "metadata": {},
   "source": [
    "# NumPy基本操作\n",
    "\n",
    "1. 创建数组"
   ]
  },
  {
   "cell_type": "code",
   "execution_count": 1,
   "id": "5780100c",
   "metadata": {},
   "outputs": [
    {
     "data": {
      "text/plain": [
       "array([1, 2, 3])"
      ]
     },
     "execution_count": 1,
     "metadata": {},
     "output_type": "execute_result"
    }
   ],
   "source": [
    "# 导入 numpy 模块\n",
    "import numpy as np\n",
    "\n",
    "# 将列表转换为 Numpy 数组\n",
    "a = np.array([1, 2, 3])\n",
    "a"
   ]
  },
  {
   "cell_type": "code",
   "execution_count": 2,
   "id": "8c9f2940",
   "metadata": {},
   "outputs": [
    {
     "data": {
      "text/plain": [
       "dtype('int64')"
      ]
     },
     "execution_count": 2,
     "metadata": {},
     "output_type": "execute_result"
    }
   ],
   "source": [
    "# 产看数组对象类型\n",
    "a.dtype"
   ]
  },
  {
   "cell_type": "code",
   "execution_count": 3,
   "id": "4e01c622",
   "metadata": {},
   "outputs": [
    {
     "data": {
      "text/plain": [
       "dtype('float64')"
      ]
     },
     "execution_count": 3,
     "metadata": {},
     "output_type": "execute_result"
    }
   ],
   "source": [
    "# 将浮点数列转为 Numpy 数组\n",
    "b = np.array([1.2, 2.3, 3.4])\n",
    "b.dtype"
   ]
  },
  {
   "cell_type": "code",
   "execution_count": 4,
   "id": "4da39e97",
   "metadata": {},
   "outputs": [
    {
     "data": {
      "text/plain": [
       "array([[1, 2, 3],\n",
       "       [4, 5, 6]])"
      ]
     },
     "execution_count": 4,
     "metadata": {},
     "output_type": "execute_result"
    }
   ],
   "source": [
    "# 也可转换多维数组\n",
    "c = np.array([[1, 2, 3], [4, 5, 6]])\n",
    "c"
   ]
  },
  {
   "cell_type": "code",
   "execution_count": 5,
   "id": "a1ffb775",
   "metadata": {},
   "outputs": [
    {
     "data": {
      "text/plain": [
       "array([[0., 0., 0.],\n",
       "       [0., 0., 0.]])"
      ]
     },
     "execution_count": 5,
     "metadata": {},
     "output_type": "execute_result"
    }
   ],
   "source": [
    "# 生成 2x3 的全 0 数组\n",
    "np.zeros((2, 3))"
   ]
  },
  {
   "cell_type": "code",
   "execution_count": 8,
   "id": "05dabdd5",
   "metadata": {},
   "outputs": [
    {
     "data": {
      "text/plain": [
       "array([[1, 1, 1, 1],\n",
       "       [1, 1, 1, 1],\n",
       "       [1, 1, 1, 1]], dtype=int16)"
      ]
     },
     "execution_count": 8,
     "metadata": {},
     "output_type": "execute_result"
    }
   ],
   "source": [
    "# 生成 3x4 的全 1 数组，并指定数据类型为 np.int16\n",
    "np.ones((3, 4), dtype=np.int16)"
   ]
  },
  {
   "cell_type": "code",
   "execution_count": 10,
   "id": "1abadef4",
   "metadata": {},
   "outputs": [
    {
     "data": {
      "text/plain": [
       "array([10, 15, 20, 25])"
      ]
     },
     "execution_count": 10,
     "metadata": {},
     "output_type": "execute_result"
    }
   ],
   "source": [
    "# 生成 大于等于10 小于30 步长为5 的数组\n",
    "np.arange(10, 30, 5)"
   ]
  },
  {
   "cell_type": "code",
   "execution_count": 11,
   "id": "aabda6d5",
   "metadata": {},
   "outputs": [
    {
     "data": {
      "text/plain": [
       "array([[0.68535724, 0.72673589],\n",
       "       [0.48221039, 0.53679577],\n",
       "       [0.65125542, 0.94370622]])"
      ]
     },
     "execution_count": 11,
     "metadata": {},
     "output_type": "execute_result"
    }
   ],
   "source": [
    "# 生成 3x2 符合 (0, 1)均匀分布的随机数组\n",
    "np.random.rand(3, 2)"
   ]
  },
  {
   "cell_type": "code",
   "execution_count": 13,
   "id": "904684e3",
   "metadata": {},
   "outputs": [
    {
     "data": {
      "text/plain": [
       "array([2, 1, 0, 1, 0])"
      ]
     },
     "execution_count": 13,
     "metadata": {},
     "output_type": "execute_result"
    }
   ],
   "source": [
    "# 生成 0~2 范围内 整形 且长度为 5 的数组\n",
    "np.random.randint(3, size=5)"
   ]
  },
  {
   "cell_type": "code",
   "execution_count": 14,
   "id": "5d3f5297",
   "metadata": {},
   "outputs": [
    {
     "data": {
      "text/plain": [
       "array([ 2.17625195, -1.54654062,  1.13322304])"
      ]
     },
     "execution_count": 14,
     "metadata": {},
     "output_type": "execute_result"
    }
   ],
   "source": [
    "# 生成一个符合标准正太分布的数组\n",
    "np.random.randn(3)"
   ]
  },
  {
   "cell_type": "markdown",
   "id": "524c11d4",
   "metadata": {},
   "source": [
    "2. 数组的索引与切片"
   ]
  }
 ],
 "metadata": {
  "kernelspec": {
   "display_name": "Python 3 (ipykernel)",
   "language": "python",
   "name": "python3"
  },
  "language_info": {
   "codemirror_mode": {
    "name": "ipython",
    "version": 3
   },
   "file_extension": ".py",
   "mimetype": "text/x-python",
   "name": "python",
   "nbconvert_exporter": "python",
   "pygments_lexer": "ipython3",
   "version": "3.10.5"
  }
 },
 "nbformat": 4,
 "nbformat_minor": 5
}
