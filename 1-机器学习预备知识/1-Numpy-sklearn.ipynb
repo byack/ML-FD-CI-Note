{
 "cells": [
  {
   "cell_type": "markdown",
   "id": "4563e610",
   "metadata": {},
   "source": [
    "# NumPy基本操作 --- sklearn\n",
    "\n",
    "## 1. 创建数组"
   ]
  },
  {
   "cell_type": "code",
   "execution_count": 41,
   "id": "5780100c",
   "metadata": {},
   "outputs": [
    {
     "data": {
      "text/plain": [
       "array([1, 2, 3])"
      ]
     },
     "execution_count": 41,
     "metadata": {},
     "output_type": "execute_result"
    }
   ],
   "source": [
    "# 导入 numpy 模块\n",
    "import numpy as np\n",
    "\n",
    "# 将列表转换为 Numpy 数组\n",
    "a = np.array([1, 2, 3])\n",
    "a"
   ]
  },
  {
   "cell_type": "code",
   "execution_count": 42,
   "id": "8c9f2940",
   "metadata": {},
   "outputs": [
    {
     "data": {
      "text/plain": [
       "dtype('int64')"
      ]
     },
     "execution_count": 42,
     "metadata": {},
     "output_type": "execute_result"
    }
   ],
   "source": [
    "# 产看数组对象类型\n",
    "a.dtype"
   ]
  },
  {
   "cell_type": "code",
   "execution_count": 43,
   "id": "4e01c622",
   "metadata": {},
   "outputs": [
    {
     "data": {
      "text/plain": [
       "dtype('float64')"
      ]
     },
     "execution_count": 43,
     "metadata": {},
     "output_type": "execute_result"
    }
   ],
   "source": [
    "# 将浮点数列转为 Numpy 数组\n",
    "b = np.array([1.2, 2.3, 3.4])\n",
    "b.dtype"
   ]
  },
  {
   "cell_type": "code",
   "execution_count": 44,
   "id": "4da39e97",
   "metadata": {},
   "outputs": [
    {
     "data": {
      "text/plain": [
       "array([[1, 2, 3],\n",
       "       [4, 5, 6]])"
      ]
     },
     "execution_count": 44,
     "metadata": {},
     "output_type": "execute_result"
    }
   ],
   "source": [
    "# 也可转换多维数组\n",
    "c = np.array([[1, 2, 3], [4, 5, 6]])\n",
    "c"
   ]
  },
  {
   "cell_type": "code",
   "execution_count": 45,
   "id": "a1ffb775",
   "metadata": {},
   "outputs": [
    {
     "data": {
      "text/plain": [
       "array([[0., 0., 0.],\n",
       "       [0., 0., 0.]])"
      ]
     },
     "execution_count": 45,
     "metadata": {},
     "output_type": "execute_result"
    }
   ],
   "source": [
    "# 生成 2x3 的全 0 数组\n",
    "np.zeros((2, 3))"
   ]
  },
  {
   "cell_type": "code",
   "execution_count": 46,
   "id": "05dabdd5",
   "metadata": {},
   "outputs": [
    {
     "data": {
      "text/plain": [
       "array([[1, 1, 1, 1],\n",
       "       [1, 1, 1, 1],\n",
       "       [1, 1, 1, 1]], dtype=int16)"
      ]
     },
     "execution_count": 46,
     "metadata": {},
     "output_type": "execute_result"
    }
   ],
   "source": [
    "# 生成 3x4 的全 1 数组，并指定数据类型为 np.int16\n",
    "np.ones((3, 4), dtype=np.int16)"
   ]
  },
  {
   "cell_type": "code",
   "execution_count": 47,
   "id": "1abadef4",
   "metadata": {},
   "outputs": [
    {
     "data": {
      "text/plain": [
       "array([10, 15, 20, 25])"
      ]
     },
     "execution_count": 47,
     "metadata": {},
     "output_type": "execute_result"
    }
   ],
   "source": [
    "# 生成 大于等于10 小于30 步长为5 的数组\n",
    "np.arange(10, 30, 5)"
   ]
  },
  {
   "cell_type": "code",
   "execution_count": 48,
   "id": "aabda6d5",
   "metadata": {},
   "outputs": [
    {
     "data": {
      "text/plain": [
       "array([[0.61420701, 0.93211804],\n",
       "       [0.91859764, 0.38458773],\n",
       "       [0.46592697, 0.36906702]])"
      ]
     },
     "execution_count": 48,
     "metadata": {},
     "output_type": "execute_result"
    }
   ],
   "source": [
    "# 生成 3x2 符合 (0, 1)均匀分布的随机数组\n",
    "np.random.rand(3, 2)"
   ]
  },
  {
   "cell_type": "code",
   "execution_count": 49,
   "id": "904684e3",
   "metadata": {},
   "outputs": [
    {
     "data": {
      "text/plain": [
       "array([0, 1, 2, 1, 2])"
      ]
     },
     "execution_count": 49,
     "metadata": {},
     "output_type": "execute_result"
    }
   ],
   "source": [
    "# 生成 0~2 范围内 整形 且长度为 5 的数组\n",
    "np.random.randint(3, size=5)"
   ]
  },
  {
   "cell_type": "code",
   "execution_count": 50,
   "id": "5d3f5297",
   "metadata": {},
   "outputs": [
    {
     "data": {
      "text/plain": [
       "array([ 0.72021458, -0.43704317, -1.4127281 ])"
      ]
     },
     "execution_count": 50,
     "metadata": {},
     "output_type": "execute_result"
    }
   ],
   "source": [
    "# 生成一个符合标准正太分布的数组\n",
    "np.random.randn(3)"
   ]
  },
  {
   "cell_type": "markdown",
   "id": "524c11d4",
   "metadata": {},
   "source": [
    "## 2. 数组的索引与切片"
   ]
  },
  {
   "cell_type": "code",
   "execution_count": 51,
   "id": "e43740e0",
   "metadata": {},
   "outputs": [
    {
     "data": {
      "text/plain": [
       "array([ 0,  1,  4,  9, 16, 25, 36, 49, 64, 81])"
      ]
     },
     "execution_count": 51,
     "metadata": {},
     "output_type": "execute_result"
    }
   ],
   "source": [
    "a = np.arange(10)**2\n",
    "a"
   ]
  },
  {
   "cell_type": "code",
   "execution_count": 52,
   "id": "79921b21",
   "metadata": {},
   "outputs": [
    {
     "name": "stdout",
     "output_type": "stream",
     "text": [
      "4\n",
      "[1 4 9] \n",
      " [81 64 49 36 25 16  9  4  1  0]\n"
     ]
    }
   ],
   "source": [
    "# 索引\n",
    "print(a[2])\n",
    "\n",
    "# 切片 ---> 通过 -1 从后往前达到翻转的效果\n",
    "print(a[1:4], \"\\n\", a[::-1])"
   ]
  },
  {
   "cell_type": "code",
   "execution_count": 53,
   "id": "fe401d99",
   "metadata": {},
   "outputs": [
    {
     "data": {
      "text/plain": [
       "array([[0.00381741, 0.45603069, 0.49478863],\n",
       "       [0.45787372, 0.11815595, 0.11801481],\n",
       "       [0.71861716, 0.42657817, 0.32022272]])"
      ]
     },
     "execution_count": 53,
     "metadata": {},
     "output_type": "execute_result"
    }
   ],
   "source": [
    "b = np.random.random((3, 3))\n",
    "b"
   ]
  },
  {
   "cell_type": "code",
   "execution_count": 54,
   "id": "710f3e50",
   "metadata": {},
   "outputs": [
    {
     "name": "stdout",
     "output_type": "stream",
     "text": [
      "0.11801480703168277\n",
      "[0.45603069 0.11815595 0.42657817]\n",
      "[0.49478863 0.11801481]\n"
     ]
    }
   ],
   "source": [
    "# 获取 第2行 第3列 的数据\n",
    "print(b[1, 2])\n",
    "\n",
    "# 获取第二列数据\n",
    "print(b[:, 1])\n",
    "\n",
    "# 获取第3列的前两行数据\n",
    "print(b[:2, 2])"
   ]
  },
  {
   "cell_type": "markdown",
   "id": "aaaf09ee",
   "metadata": {},
   "source": [
    "## 3. 数组的基础运算"
   ]
  },
  {
   "cell_type": "code",
   "execution_count": 55,
   "id": "38b418c9",
   "metadata": {},
   "outputs": [],
   "source": [
    "A = np.array([[1, 1], [0, 1]])\n",
    "B = np.array([[2, 0], [3, 4]])"
   ]
  },
  {
   "cell_type": "code",
   "execution_count": 56,
   "id": "1aabe3bf",
   "metadata": {},
   "outputs": [
    {
     "data": {
      "text/plain": [
       "array([[2, 0],\n",
       "       [0, 4]])"
      ]
     },
     "execution_count": 56,
     "metadata": {},
     "output_type": "execute_result"
    }
   ],
   "source": [
    "# 矩阵元素乘积（按元素相乘）\n",
    "A * B"
   ]
  },
  {
   "cell_type": "code",
   "execution_count": 57,
   "id": "40b5c520",
   "metadata": {},
   "outputs": [
    {
     "data": {
      "text/plain": [
       "array([[5, 4],\n",
       "       [3, 4]])"
      ]
     },
     "execution_count": 57,
     "metadata": {},
     "output_type": "execute_result"
    }
   ],
   "source": [
    "# 矩阵的点积（行乘列）\n",
    "A.dot(B)"
   ]
  },
  {
   "cell_type": "code",
   "execution_count": 58,
   "id": "1dc6afbb",
   "metadata": {},
   "outputs": [
    {
     "data": {
      "text/plain": [
       "array([[ 1., -1.],\n",
       "       [ 0.,  1.]])"
      ]
     },
     "execution_count": 58,
     "metadata": {},
     "output_type": "execute_result"
    }
   ],
   "source": [
    "# 矩阵求 逆\n",
    "np.linalg.inv(A)"
   ]
  },
  {
   "cell_type": "code",
   "execution_count": 59,
   "id": "75ceef67",
   "metadata": {},
   "outputs": [
    {
     "data": {
      "text/plain": [
       "1.0"
      ]
     },
     "execution_count": 59,
     "metadata": {},
     "output_type": "execute_result"
    }
   ],
   "source": [
    "# 矩阵求行列式\n",
    "np.linalg.det(A)"
   ]
  },
  {
   "cell_type": "markdown",
   "id": "7f5511d4",
   "metadata": {},
   "source": [
    "## 4. 数组维度变换"
   ]
  },
  {
   "cell_type": "code",
   "execution_count": 60,
   "id": "c2e2d36e",
   "metadata": {},
   "outputs": [
    {
     "data": {
      "text/plain": [
       "array([[5., 8., 8., 1.],\n",
       "       [5., 4., 8., 9.],\n",
       "       [5., 4., 9., 8.]])"
      ]
     },
     "execution_count": 60,
     "metadata": {},
     "output_type": "execute_result"
    }
   ],
   "source": [
    "a = np.floor(10 * np.random.random((3, 4)))\n",
    "a"
   ]
  },
  {
   "cell_type": "code",
   "execution_count": 61,
   "id": "1c0ecba4",
   "metadata": {},
   "outputs": [
    {
     "name": "stdout",
     "output_type": "stream",
     "text": [
      "shape:  (3, 4)\n",
      "ravel:  [5. 8. 8. 1. 5. 4. 8. 9. 5. 4. 9. 8.]\n",
      "reshape:  [[5. 8. 8. 1. 5. 4.]\n",
      " [8. 9. 5. 4. 9. 8.]]\n",
      "T:  [[5. 5. 5.]\n",
      " [8. 4. 4.]\n",
      " [8. 8. 9.]\n",
      " [1. 9. 8.]]\n"
     ]
    }
   ],
   "source": [
    "# 查看数组维度\n",
    "print(\"shape: \", a.shape)\n",
    "\n",
    "# 数组拉平\n",
    "print(\"ravel: \", a.ravel())\n",
    "\n",
    "# 将数组改变形状为 2行6列\n",
    "print(\"reshape: \", a.reshape(2, 6))\n",
    "\n",
    "# 数组的转置\n",
    "print(\"T: \", a.T)"
   ]
  },
  {
   "cell_type": "code",
   "execution_count": 62,
   "id": "94c06eab",
   "metadata": {},
   "outputs": [
    {
     "data": {
      "text/plain": [
       "array([[5., 8., 8., 1.],\n",
       "       [5., 4., 8., 9.],\n",
       "       [5., 4., 9., 8.]])"
      ]
     },
     "execution_count": 62,
     "metadata": {},
     "output_type": "execute_result"
    }
   ],
   "source": [
    "# 改变维度时可以通过 -1 自动计算该维度的数值\n",
    "a.reshape(3, -1)"
   ]
  },
  {
   "cell_type": "markdown",
   "id": "18ace135",
   "metadata": {},
   "source": [
    "## 5. 数组的合并与切分"
   ]
  },
  {
   "cell_type": "code",
   "execution_count": 63,
   "id": "ef2c0d65",
   "metadata": {},
   "outputs": [
    {
     "data": {
      "text/plain": [
       "array([[1, 1, 2, 0],\n",
       "       [0, 1, 3, 4]])"
      ]
     },
     "execution_count": 63,
     "metadata": {},
     "output_type": "execute_result"
    }
   ],
   "source": [
    "# 按行合并\n",
    "np.hstack((A, B))"
   ]
  },
  {
   "cell_type": "code",
   "execution_count": 64,
   "id": "e9014237",
   "metadata": {},
   "outputs": [
    {
     "data": {
      "text/plain": [
       "array([[1, 1],\n",
       "       [0, 1],\n",
       "       [2, 0],\n",
       "       [3, 4]])"
      ]
     },
     "execution_count": 64,
     "metadata": {},
     "output_type": "execute_result"
    }
   ],
   "source": [
    "# 按列合并\n",
    "np.vstack((A, B))"
   ]
  },
  {
   "cell_type": "code",
   "execution_count": 65,
   "id": "e74f6838",
   "metadata": {},
   "outputs": [
    {
     "data": {
      "text/plain": [
       "[array([[ 0,  1],\n",
       "        [ 4,  5],\n",
       "        [ 8,  9],\n",
       "        [12, 13]]),\n",
       " array([[ 2,  3],\n",
       "        [ 6,  7],\n",
       "        [10, 11],\n",
       "        [14, 15]])]"
      ]
     },
     "execution_count": 65,
     "metadata": {},
     "output_type": "execute_result"
    }
   ],
   "source": [
    "C = np.arange(16).reshape(4, 4)\n",
    "\n",
    "# 竖着切成两个数组\n",
    "np.hsplit(C, 2)"
   ]
  },
  {
   "cell_type": "code",
   "execution_count": 66,
   "id": "c72f3b01",
   "metadata": {},
   "outputs": [
    {
     "data": {
      "text/plain": [
       "[array([[0, 1, 2, 3],\n",
       "        [4, 5, 6, 7]]),\n",
       " array([[ 8,  9, 10, 11],\n",
       "        [12, 13, 14, 15]])]"
      ]
     },
     "execution_count": 66,
     "metadata": {},
     "output_type": "execute_result"
    }
   ],
   "source": [
    "# 横着切成两个数组\n",
    "np.vsplit(C, 2)"
   ]
  },
  {
   "cell_type": "markdown",
   "id": "43d3167c",
   "metadata": {},
   "source": [
    "## 6. sklearn实现对数几率回归"
   ]
  },
  {
   "cell_type": "code",
   "execution_count": 67,
   "id": "28038e1d",
   "metadata": {},
   "outputs": [],
   "source": [
    "from sklearn.datasets import load_iris\n",
    "from sklearn.linear_model import LogisticRegression"
   ]
  },
  {
   "cell_type": "code",
   "execution_count": 68,
   "id": "7bb34fb1",
   "metadata": {},
   "outputs": [],
   "source": [
    "# 导入数据\n",
    "X, y = load_iris(return_X_y=True)"
   ]
  },
  {
   "cell_type": "code",
   "execution_count": 69,
   "id": "e0e26905",
   "metadata": {},
   "outputs": [
    {
     "data": {
      "text/plain": [
       "(array([5.1, 3.5, 1.4, 0.2]), 0)"
      ]
     },
     "execution_count": 69,
     "metadata": {},
     "output_type": "execute_result"
    }
   ],
   "source": [
    "X[0], y[0]"
   ]
  },
  {
   "cell_type": "code",
   "execution_count": 70,
   "id": "47bd17cd",
   "metadata": {},
   "outputs": [
    {
     "name": "stderr",
     "output_type": "stream",
     "text": [
      "/home/hkc/Programs/ML-FD-CI-Note/venv/lib/python3.10/site-packages/sklearn/linear_model/_logistic.py:444: ConvergenceWarning: lbfgs failed to converge (status=1):\n",
      "STOP: TOTAL NO. of ITERATIONS REACHED LIMIT.\n",
      "\n",
      "Increase the number of iterations (max_iter) or scale the data as shown in:\n",
      "    https://scikit-learn.org/stable/modules/preprocessing.html\n",
      "Please also refer to the documentation for alternative solver options:\n",
      "    https://scikit-learn.org/stable/modules/linear_model.html#logistic-regression\n",
      "  n_iter_i = _check_optimize_result(\n"
     ]
    }
   ],
   "source": [
    "# 拟合模型\n",
    "clf = LogisticRegression(random_state=0).fit(X, y)"
   ]
  },
  {
   "cell_type": "code",
   "execution_count": 71,
   "id": "624e0ca5",
   "metadata": {},
   "outputs": [
    {
     "data": {
      "text/plain": [
       "array([0, 0])"
      ]
     },
     "execution_count": 71,
     "metadata": {},
     "output_type": "execute_result"
    }
   ],
   "source": [
    "# 以上只是一个警告\n",
    "# 预测前两行\n",
    "clf.predict(X[:2, :])"
   ]
  },
  {
   "cell_type": "code",
   "execution_count": 72,
   "id": "6caf7c7a",
   "metadata": {},
   "outputs": [
    {
     "data": {
      "text/plain": [
       "array([[9.81799409e-01, 1.82005762e-02, 1.43509289e-08],\n",
       "       [9.71722782e-01, 2.82771875e-02, 3.00214335e-08]])"
      ]
     },
     "execution_count": 72,
     "metadata": {},
     "output_type": "execute_result"
    }
   ],
   "source": [
    "# 概率预测\n",
    "clf.predict_proba(X[:2, :])"
   ]
  },
  {
   "cell_type": "code",
   "execution_count": 73,
   "id": "2ab2b02a",
   "metadata": {},
   "outputs": [
    {
     "data": {
      "text/plain": [
       "0.9733333333333334"
      ]
     },
     "execution_count": 73,
     "metadata": {},
     "output_type": "execute_result"
    }
   ],
   "source": [
    "# 模型分类准确率\n",
    "clf.score(X, y)"
   ]
  },
  {
   "cell_type": "markdown",
   "id": "3a0aa592",
   "metadata": {},
   "source": [
    "## 7. PPT里的习题\n",
    "\n",
    "y_test=[1,1,0,1,0,0,1,0,1,0,1,0,1,0,1,0,1,1,0,0,1,0,1,1,1,0,0,0,1,0]\n",
    "y_prd=[1,0,1,1,0,1,1,0,1,0,0,0,1,0,1,0,1,1,0,1,1,1,1,1,1,0,1,0,1,1]\n",
    "\n",
    "使用 sklearn 计算 Accuracy、Precision、Recall、Specificity、F1 score和AUC"
   ]
  },
  {
   "cell_type": "code",
   "execution_count": 74,
   "id": "8868a41b",
   "metadata": {},
   "outputs": [],
   "source": [
    "y_test = np.array([1,1,0,1,0,0,1,0,1,0,1,0,1,0,1,0,1,1,0,0,1,0,1,1,1,0,0,0,1,0])\n",
    "y_prd = np.array([1,0,1,1,0,1,1,0,1,0,0,0,1,0,1,0,1,1,0,1,1,1,1,1,1,0,1,0,1,1])"
   ]
  },
  {
   "cell_type": "code",
   "execution_count": 75,
   "id": "0b78748c",
   "metadata": {},
   "outputs": [
    {
     "data": {
      "text/plain": [
       "array([[ 9,  6],\n",
       "       [ 2, 13]])"
      ]
     },
     "execution_count": 75,
     "metadata": {},
     "output_type": "execute_result"
    }
   ],
   "source": [
    "# 生成混淆矩阵 \n",
    "from sklearn.metrics import confusion_matrix\n",
    "\"\"\"以下混淆矩阵的顺序是\n",
    "         预测结果\n",
    "----------------------\n",
    "真 |   |---0-----1----\n",
    "实 | 0 |   9  |  6\n",
    "结 |   |--------------\n",
    "果 | 1 |   2  |  13\n",
    "\n",
    "所以：TP=13  FP=6  FN=2  TN=9\n",
    "\"\"\"\n",
    "confusion_matrix(y_test, y_prd)"
   ]
  },
  {
   "cell_type": "code",
   "execution_count": 76,
   "id": "fd5c4e97",
   "metadata": {},
   "outputs": [
    {
     "data": {
      "text/plain": [
       "0.7333333333333333"
      ]
     },
     "execution_count": 76,
     "metadata": {},
     "output_type": "execute_result"
    }
   ],
   "source": [
    "# 计算准确率\n",
    "from sklearn.metrics import accuracy_score\n",
    "accuracy_score(y_test, y_prd)  # (13+9)/(13+6+2+9)"
   ]
  },
  {
   "cell_type": "code",
   "execution_count": 77,
   "id": "91c1e78e",
   "metadata": {},
   "outputs": [
    {
     "data": {
      "text/plain": [
       "0.6842105263157895"
      ]
     },
     "execution_count": 77,
     "metadata": {},
     "output_type": "execute_result"
    }
   ],
   "source": [
    "# 计算精确率\n",
    "from sklearn.metrics import precision_score\n",
    "precision_score(y_test, y_prd, pos_label=1, average='binary')  # 13/(13+6)  只看二分类问题中标签为 1 的 准确率"
   ]
  },
  {
   "cell_type": "code",
   "execution_count": 78,
   "id": "70bb70e4",
   "metadata": {},
   "outputs": [
    {
     "data": {
      "text/plain": [
       "0.8666666666666667"
      ]
     },
     "execution_count": 78,
     "metadata": {},
     "output_type": "execute_result"
    }
   ],
   "source": [
    "# 计算召回率\n",
    "from sklearn.metrics import recall_score\n",
    "recall_score(y_test, y_prd)  # 13/(13+2)"
   ]
  },
  {
   "cell_type": "code",
   "execution_count": 79,
   "id": "5058dd3f",
   "metadata": {},
   "outputs": [
    {
     "data": {
      "text/plain": [
       "0.7647058823529413"
      ]
     },
     "execution_count": 79,
     "metadata": {},
     "output_type": "execute_result"
    }
   ],
   "source": [
    "# 计算 F1\n",
    "from sklearn.metrics import f1_score\n",
    "f1_score(y_test, y_prd)  # (2*13)/(2*13+6+2)"
   ]
  },
  {
   "cell_type": "code",
   "execution_count": 80,
   "id": "a69ec833",
   "metadata": {},
   "outputs": [
    {
     "data": {
      "text/plain": [
       "0.7333333333333333"
      ]
     },
     "execution_count": 80,
     "metadata": {},
     "output_type": "execute_result"
    }
   ],
   "source": [
    "# AUC\n",
    "from sklearn.metrics import roc_auc_score\n",
    "roc_auc_score(y_test, y_prd)"
   ]
  }
 ],
 "metadata": {
  "kernelspec": {
   "display_name": "Python 3 (ipykernel)",
   "language": "python",
   "name": "python3"
  },
  "language_info": {
   "codemirror_mode": {
    "name": "ipython",
    "version": 3
   },
   "file_extension": ".py",
   "mimetype": "text/x-python",
   "name": "python",
   "nbconvert_exporter": "python",
   "pygments_lexer": "ipython3",
   "version": "3.10.5"
  }
 },
 "nbformat": 4,
 "nbformat_minor": 5
}
